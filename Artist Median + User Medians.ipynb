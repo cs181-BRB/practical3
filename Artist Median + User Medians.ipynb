{
 "cells": [
  {
   "cell_type": "code",
   "execution_count": 148,
   "metadata": {
    "collapsed": true
   },
   "outputs": [],
   "source": [
    "import numpy as np\n",
    "import matplotlib.pyplot as plt\n",
    "from collections import Counter\n",
    "import pandas as pd\n",
    "from pyquery import PyQuery as pq\n",
    "import requests\n",
    "import urllib2\n",
    "from bs4 import BeautifulSoup\n",
    "import re\n",
    "%matplotlib inline\n",
    "import pickle\n",
    "import collections\n",
    "from sklearn.metrics import mean_absolute_error\n",
    "from sklearn.ensemble import RandomForestRegressor\n",
    "from sklearn.linear_model import BayesianRidge, LinearRegression"
   ]
  },
  {
   "cell_type": "code",
   "execution_count": 3,
   "metadata": {
    "collapsed": false
   },
   "outputs": [],
   "source": [
    "artists = pd.read_csv('artists.csv')\n",
    "# profiles = pd.read_csv('profiles.csv')\n",
    "train = pd.read_csv('train.csv')\n",
    "test = pd.read_csv('test.csv')"
   ]
  },
  {
   "cell_type": "code",
   "execution_count": 7,
   "metadata": {
    "collapsed": true
   },
   "outputs": [],
   "source": [
    "GLOBAL_MEDIAN = 118\n",
    "VAL_SIZE = 10000"
   ]
  },
  {
   "cell_type": "code",
   "execution_count": 8,
   "metadata": {
    "collapsed": true
   },
   "outputs": [],
   "source": [
    "# set up training and validation\n",
    "train_df = train.head(len(train) - VAL_SIZE)\n",
    "val_df = train.tail(VAL_SIZE)"
   ]
  },
  {
   "cell_type": "markdown",
   "metadata": {},
   "source": [
    "### Calculate User Median (done for us)"
   ]
  },
  {
   "cell_type": "code",
   "execution_count": 165,
   "metadata": {
    "collapsed": true
   },
   "outputs": [],
   "source": [
    "import numpy as np\n",
    "import csv\n",
    "\n",
    "# Predict via the user-specific median.\n",
    "# If the user has no data, use the global median.\n",
    "\n",
    "train_file = 'train.csv'\n",
    "test_file  = 'test.csv'\n",
    "soln_file  = 'user_median.csv'\n",
    "\n",
    "# Load the training data.\n",
    "train_data = {}\n",
    "with open(train_file, 'r') as train_fh:\n",
    "    train_csv = csv.reader(train_fh, delimiter=',', quotechar='\"')\n",
    "    next(train_csv, None)\n",
    "    for row in train_csv:\n",
    "        user   = row[0]\n",
    "        artist = row[1]\n",
    "        plays  = row[2]\n",
    "    \n",
    "        if not user in train_data:\n",
    "            train_data[user] = {}\n",
    "        \n",
    "        train_data[user][artist] = int(plays)\n",
    "\n",
    "# Compute the global median and per-user median.\n",
    "plays_array  = []\n",
    "user_medians = {}\n",
    "for user, user_data in train_data.iteritems():\n",
    "    user_plays = []\n",
    "    for artist, plays in user_data.iteritems():\n",
    "        plays_array.append(plays)\n",
    "        user_plays.append(plays)\n",
    "\n",
    "    user_medians[user] = np.median(np.array(user_plays))\n",
    "global_median = np.median(np.array(plays_array))\n",
    "\n",
    "# Write out test solutions.\n",
    "with open(test_file, 'r') as test_fh:\n",
    "    test_csv = csv.reader(test_fh, delimiter=',', quotechar='\"')\n",
    "    next(test_csv, None)\n",
    "\n",
    "    with open(soln_file, 'w') as soln_fh:\n",
    "        soln_csv = csv.writer(soln_fh,\n",
    "                              delimiter=',',\n",
    "                              quotechar='\"',\n",
    "                              quoting=csv.QUOTE_MINIMAL)\n",
    "        soln_csv.writerow(['Id', 'plays'])\n",
    "\n",
    "        for row in test_csv:\n",
    "            id     = row[0]\n",
    "            user   = row[1]\n",
    "            artist = row[2]\n",
    "\n",
    "            if user in user_medians:\n",
    "                soln_csv.writerow([id, user_medians[user]])\n",
    "            else:\n",
    "                print \"User\", id, \"not in training data.\"\n",
    "                soln_csv.writerow([id, global_median])"
   ]
  },
  {
   "cell_type": "code",
   "execution_count": 9,
   "metadata": {
    "collapsed": false
   },
   "outputs": [
    {
     "data": {
      "text/html": [
       "<div>\n",
       "<table border=\"1\" class=\"dataframe\">\n",
       "  <thead>\n",
       "    <tr style=\"text-align: right;\">\n",
       "      <th></th>\n",
       "      <th>user</th>\n",
       "      <th>artist</th>\n",
       "      <th>plays</th>\n",
       "    </tr>\n",
       "  </thead>\n",
       "  <tbody>\n",
       "    <tr>\n",
       "      <th>0</th>\n",
       "      <td>eb1c57ddc9e0e2d005169d3a1a96e8dd95e3af03</td>\n",
       "      <td>5a8e07d5-d932-4484-a7f7-e700793a9c94</td>\n",
       "      <td>554</td>\n",
       "    </tr>\n",
       "  </tbody>\n",
       "</table>\n",
       "</div>"
      ],
      "text/plain": [
       "                                       user  \\\n",
       "0  eb1c57ddc9e0e2d005169d3a1a96e8dd95e3af03   \n",
       "\n",
       "                                 artist  plays  \n",
       "0  5a8e07d5-d932-4484-a7f7-e700793a9c94    554  "
      ]
     },
     "execution_count": 9,
     "metadata": {},
     "output_type": "execute_result"
    }
   ],
   "source": [
    "train.head(1)"
   ]
  },
  {
   "cell_type": "markdown",
   "metadata": {},
   "source": [
    "### Calculate Artist Medians * IN RELATION TO USER MEDIAN!!"
   ]
  },
  {
   "cell_type": "code",
   "execution_count": 42,
   "metadata": {
    "collapsed": false
   },
   "outputs": [],
   "source": [
    "artist_plays_normalized = collections.defaultdict(list)\n",
    "artist_plays = collections.defaultdict(list)\n",
    "for id, row in train_df.iterrows():\n",
    "    # do I need to normalize this to give everyone the same weight? ie write as a fraction?\n",
    "    artist = row['artist']\n",
    "    diff_user_plays_from_user_median = row['plays'] - user_medians[row['user']]\n",
    "    diff_user_plays_from_user_median_normalized = (row['plays']) / float(user_medians[row['user']])\n",
    "    artist_plays_normalized[artist].append(diff_user_plays_from_user_median_normalized)\n",
    "    artist_plays[artist].append(diff_user_plays_from_user_median)"
   ]
  },
  {
   "cell_type": "code",
   "execution_count": 21,
   "metadata": {
    "collapsed": false
   },
   "outputs": [
    {
     "name": "stdout",
     "output_type": "stream",
     "text": [
      "user_id: eb1c57ddc9e0e2d005169d3a1a96e8dd95e3af03 artist_id: 5a8e07d5-d932-4484-a7f7-e700793a9c94 554\n",
      "plays: 554 user_median: 502.0\n"
     ]
    },
    {
     "data": {
      "text/plain": [
       "(defaultdict(list, {'artist': [52.0]}),\n",
       " defaultdict(list, {'artist': [1.1035856573705178]}))"
      ]
     },
     "execution_count": 21,
     "metadata": {},
     "output_type": "execute_result"
    }
   ],
   "source": [
    "print \"user_id: eb1c57ddc9e0e2d005169d3a1a96e8dd95e3af03 artist_id: 5a8e07d5-d932-4484-a7f7-e700793a9c94 554\"\n",
    "print \"plays: 554 user_median: 502.0\"\n",
    "artist_plays[\"5a8e07d5-d932-4484-a7f7-e700793a9c94\"], artist_plays_normalized[\"5a8e07d5-d932-4484-a7f7-e700793a9c94\"]"
   ]
  },
  {
   "cell_type": "code",
   "execution_count": 50,
   "metadata": {
    "collapsed": false
   },
   "outputs": [
    {
     "data": {
      "text/html": [
       "<div>\n",
       "<table border=\"1\" class=\"dataframe\">\n",
       "  <thead>\n",
       "    <tr style=\"text-align: right;\">\n",
       "      <th></th>\n",
       "      <th>artist</th>\n",
       "      <th>name</th>\n",
       "    </tr>\n",
       "  </thead>\n",
       "  <tbody>\n",
       "    <tr>\n",
       "      <th>0</th>\n",
       "      <td>03098741-08b3-4dd7-b3f6-1b0bfa2c879c</td>\n",
       "      <td>Liars</td>\n",
       "    </tr>\n",
       "    <tr>\n",
       "      <th>1</th>\n",
       "      <td>69c4cc43-8163-41c5-ac81-30946d27bb69</td>\n",
       "      <td>CunninLynguists</td>\n",
       "    </tr>\n",
       "    <tr>\n",
       "      <th>2</th>\n",
       "      <td>7a2e6b55-f149-4e74-be6a-30a1b1a387bb</td>\n",
       "      <td>The Desert Sessions</td>\n",
       "    </tr>\n",
       "    <tr>\n",
       "      <th>3</th>\n",
       "      <td>7002bf88-1269-4965-a772-4ba1e7a91eaa</td>\n",
       "      <td>Glenn Gould</td>\n",
       "    </tr>\n",
       "    <tr>\n",
       "      <th>4</th>\n",
       "      <td>dbf7c761-e332-467b-b4d9-aafe06bbcf8f</td>\n",
       "      <td>G. Love &amp; Special Sauce</td>\n",
       "    </tr>\n",
       "  </tbody>\n",
       "</table>\n",
       "</div>"
      ],
      "text/plain": [
       "                                 artist                     name\n",
       "0  03098741-08b3-4dd7-b3f6-1b0bfa2c879c                    Liars\n",
       "1  69c4cc43-8163-41c5-ac81-30946d27bb69          CunninLynguists\n",
       "2  7a2e6b55-f149-4e74-be6a-30a1b1a387bb      The Desert Sessions\n",
       "3  7002bf88-1269-4965-a772-4ba1e7a91eaa              Glenn Gould\n",
       "4  dbf7c761-e332-467b-b4d9-aafe06bbcf8f  G. Love & Special Sauce"
      ]
     },
     "execution_count": 50,
     "metadata": {},
     "output_type": "execute_result"
    }
   ],
   "source": [
    "artists.head(5)"
   ]
  },
  {
   "cell_type": "markdown",
   "metadata": {},
   "source": [
    "#### What do these distributions look like? Is this reasonable?"
   ]
  },
  {
   "cell_type": "code",
   "execution_count": 123,
   "metadata": {
    "collapsed": false
   },
   "outputs": [
    {
     "data": {
      "text/plain": [
       "(array([  1.29600000e+03,   1.60000000e+02,   2.10000000e+01,\n",
       "          9.00000000e+00,   5.00000000e+00,   4.00000000e+00,\n",
       "          1.00000000e+00,   0.00000000e+00,   0.00000000e+00,\n",
       "          1.00000000e+00]),\n",
       " array([  0.04615385,   1.76366236,   3.48117086,   5.19867937,\n",
       "          6.91618788,   8.63369639,  10.3512049 ,  12.06871341,\n",
       "         13.78622192,  15.50373043,  17.22123894]),\n",
       " <a list of 10 Patch objects>)"
      ]
     },
     "execution_count": 123,
     "metadata": {},
     "output_type": "execute_result"
    },
    {
     "data": {
      "image/png": "[encoded data removed]",
      "text/plain": [
       "<matplotlib.figure.Figure at 0x163d57110>"
      ]
     },
     "metadata": {},
     "output_type": "display_data"
    }
   ],
   "source": [
    "plt.hist(artist_plays_normalized[\"5a8e07d5-d932-4484-a7f7-e700793a9c94\"])"
   ]
  },
  {
   "cell_type": "code",
   "execution_count": 241,
   "metadata": {
    "collapsed": false
   },
   "outputs": [
    {
     "data": {
      "text/plain": [
       "<matplotlib.text.Text at 0x128fdccd0>"
      ]
     },
     "execution_count": 241,
     "metadata": {},
     "output_type": "execute_result"
    },
    {
     "data": {
      "image/png": "[encoded data removed]",
      "text/plain": [
       "<matplotlib.figure.Figure at 0x1291147d0>"
      ]
     },
     "metadata": {},
     "output_type": "display_data"
    }
   ],
   "source": [
    "plt.hist(artist_plays_normalized[\"5a8e07d5-d932-4484-a7f7-e700793a9c94\"])\n",
    "plt.title(\"Normalized Artist Plays\")\n",
    "plt.ylabel(\"Number of users\")\n",
    "plt.xlabel(\"Plays Per User / User Median\")"
   ]
  },
  {
   "cell_type": "code",
   "execution_count": 56,
   "metadata": {
    "collapsed": false
   },
   "outputs": [
    {
     "data": {
      "text/plain": [
       "(array([  1.00000000e+00,   0.00000000e+00,   0.00000000e+00,\n",
       "          0.00000000e+00,   3.00000000e+00,   4.50000000e+01,\n",
       "          1.40200000e+03,   3.60000000e+01,   9.00000000e+00,\n",
       "          1.00000000e+00]),\n",
       " array([-2712.  , -2286.55, -1861.1 , -1435.65, -1010.2 ,  -584.75,\n",
       "         -159.3 ,   266.15,   691.6 ,  1117.05,  1542.5 ]),\n",
       " <a list of 10 Patch objects>)"
      ]
     },
     "execution_count": 56,
     "metadata": {},
     "output_type": "execute_result"
    },
    {
     "data": {
      "image/png": "[encoded data removed]",
      "text/plain": [
       "<matplotlib.figure.Figure at 0x1639bc810>"
      ]
     },
     "metadata": {},
     "output_type": "display_data"
    }
   ],
   "source": [
    "plt.hist(artist_plays[\"5a8e07d5-d932-4484-a7f7-e700793a9c94\"])"
   ]
  },
  {
   "cell_type": "code",
   "execution_count": 242,
   "metadata": {
    "collapsed": false
   },
   "outputs": [
    {
     "data": {
      "text/plain": [
       "<matplotlib.text.Text at 0x129283190>"
      ]
     },
     "execution_count": 242,
     "metadata": {},
     "output_type": "execute_result"
    },
    {
     "data": {
      "image/png": "[encoded data removed]",
      "text/plain": [
       "<matplotlib.figure.Figure at 0x129107810>"
      ]
     },
     "metadata": {},
     "output_type": "display_data"
    }
   ],
   "source": [
    "plt.hist(artist_plays[\"5a8e07d5-d932-4484-a7f7-e700793a9c94\"])\n",
    "plt.title(\"Plays for an Artist\")\n",
    "plt.xlabel(\"Plays for a user - User Median\")\n",
    "plt.ylabel(\"Number of Users\")"
   ]
  },
  {
   "cell_type": "code",
   "execution_count": 47,
   "metadata": {
    "collapsed": false
   },
   "outputs": [
    {
     "data": {
      "text/plain": [
       "(1.1887402342016555, 0.91073738680465721)"
      ]
     },
     "execution_count": 47,
     "metadata": {},
     "output_type": "execute_result"
    }
   ],
   "source": [
    "np.mean(artist_plays_normalized[\"5a8e07d5-d932-4484-a7f7-e700793a9c94\"]), np.median(artist_plays_normalized[\"5a8e07d5-d932-4484-a7f7-e700793a9c94\"])"
   ]
  },
  {
   "cell_type": "markdown",
   "metadata": {},
   "source": [
    "#### What does the mean/medians for artists look like? Is this reasonable? (when count differences are not normalized)"
   ]
  },
  {
   "cell_type": "code",
   "execution_count": 75,
   "metadata": {
    "collapsed": false
   },
   "outputs": [],
   "source": [
    "artist_means = collections.defaultdict(int)\n",
    "for artist in artist_plays.keys():\n",
    "    # create a dictionary of all the artist means (can choose median as well)\n",
    "    artist_means[artist] = np.mean(artist_plays[artist])"
   ]
  },
  {
   "cell_type": "code",
   "execution_count": 83,
   "metadata": {
    "collapsed": true
   },
   "outputs": [],
   "source": [
    "artist_medians = collections.defaultdict(int)\n",
    "for artist in artist_plays.keys():\n",
    "    # create a dictionary of all the artist means (can choose median as well)\n",
    "    artist_medians[artist] = np.median(artist_plays[artist])"
   ]
  },
  {
   "cell_type": "code",
   "execution_count": 77,
   "metadata": {
    "collapsed": false
   },
   "outputs": [
    {
     "data": {
      "text/plain": [
       "(array([ 662.,  863.,  329.,   99.,   28.,   10.,    6.,    1.,    1.,    1.]),\n",
       " array([ -28.00306373,   31.30804265,   90.61914902,  149.93025539,\n",
       "         209.24136176,  268.55246814,  327.86357451,  387.17468088,\n",
       "         446.48578725,  505.79689363,  565.108     ]),\n",
       " <a list of 10 Patch objects>)"
      ]
     },
     "execution_count": 77,
     "metadata": {},
     "output_type": "execute_result"
    },
    {
     "data": {
      "image/png": "[encoded data removed]",
      "text/plain": [
       "<matplotlib.figure.Figure at 0x163c536d0>"
      ]
     },
     "metadata": {},
     "output_type": "display_data"
    }
   ],
   "source": [
    "plt.hist(list(artist_means.values()))"
   ]
  },
  {
   "cell_type": "code",
   "execution_count": 114,
   "metadata": {
    "collapsed": false
   },
   "outputs": [
    {
     "name": "stdout",
     "output_type": "stream",
     "text": [
      "nan\n"
     ]
    },
    {
     "data": {
      "text/plain": [
       "(array([  6.40000000e+01,   1.45600000e+03,   3.47000000e+02,\n",
       "          7.60000000e+01,   3.10000000e+01,   1.10000000e+01,\n",
       "          8.00000000e+00,   4.00000000e+00,   3.00000000e+00,\n",
       "          1.00000000e+00]),\n",
       " array([-15.  ,  -7.15,   0.7 ,   8.55,  16.4 ,  24.25,  32.1 ,  39.95,\n",
       "         47.8 ,  55.65,  63.5 ]),\n",
       " <a list of 10 Patch objects>)"
      ]
     },
     "execution_count": 114,
     "metadata": {},
     "output_type": "execute_result"
    },
    {
     "data": {
      "image/png": "[encoded data removed]",
      "text/plain": [
       "<matplotlib.figure.Figure at 0x16e69c0d0>"
      ]
     },
     "metadata": {},
     "output_type": "display_data"
    }
   ],
   "source": [
    "values = []\n",
    "for value in list(artist_median.values()):\n",
    "    if np.isnan(value):\n",
    "        print value\n",
    "        continue\n",
    "    values.append(value)\n",
    "plt.hist(values)"
   ]
  },
  {
   "cell_type": "code",
   "execution_count": 115,
   "metadata": {
    "collapsed": true
   },
   "outputs": [],
   "source": [
    "artist_means = collections.defaultdict(int)\n",
    "for artist in artist_plays_normalized.keys():\n",
    "    # create a dictionary of all the artist means (can choose median as well)\n",
    "    artist_means[artist] = np.mean(artist_plays_normalized[artist])"
   ]
  },
  {
   "cell_type": "code",
   "execution_count": 117,
   "metadata": {
    "collapsed": false
   },
   "outputs": [
    {
     "name": "stdout",
     "output_type": "stream",
     "text": [
      "nan\n"
     ]
    },
    {
     "data": {
      "text/plain": [
       "(array([ 803.,  903.,  216.,   51.,   19.,    4.,    1.,    0.,    2.,    1.]),\n",
       " array([ 0.87194938,  1.3344976 ,  1.79704582,  2.25959405,  2.72214227,\n",
       "         3.18469049,  3.64723871,  4.10978693,  4.57233515,  5.03488338,\n",
       "         5.4974316 ]),\n",
       " <a list of 10 Patch objects>)"
      ]
     },
     "execution_count": 117,
     "metadata": {},
     "output_type": "execute_result"
    },
    {
     "data": {
      "image/png": "[encoded data removed]",
      "text/plain": [
       "<matplotlib.figure.Figure at 0x1640917d0>"
      ]
     },
     "metadata": {},
     "output_type": "display_data"
    }
   ],
   "source": [
    "values = []\n",
    "for value in list(artist_means.values()):\n",
    "    if np.isnan(value):\n",
    "        print value\n",
    "        continue\n",
    "    values.append(value)\n",
    "plt.hist(values)"
   ]
  },
  {
   "cell_type": "code",
   "execution_count": 167,
   "metadata": {
    "collapsed": false
   },
   "outputs": [
    {
     "name": "stdout",
     "output_type": "stream",
     "text": [
      "nan\n"
     ]
    },
    {
     "data": {
      "text/plain": [
       "(array([  23.,  256.,  700.,  820.,  121.,   49.,   14.,   10.,    4.,    3.]),\n",
       " array([ 0.73879599,  0.82203792,  0.90527985,  0.98852178,  1.07176372,\n",
       "         1.15500565,  1.23824758,  1.32148952,  1.40473145,  1.48797338,\n",
       "         1.57121531]),\n",
       " <a list of 10 Patch objects>)"
      ]
     },
     "execution_count": 167,
     "metadata": {},
     "output_type": "execute_result"
    },
    {
     "data": {
      "image/png": "[encoded data removed]",
      "text/plain": [
       "<matplotlib.figure.Figure at 0x1626b0410>"
      ]
     },
     "metadata": {},
     "output_type": "display_data"
    }
   ],
   "source": [
    "artist_medians = collections.defaultdict(int)\n",
    "for artist in artist_plays_normalized.keys():\n",
    "    # create a dictionary of all the artist means (can choose median as well)\n",
    "    artist_medians[artist] = np.median(artist_plays_normalized[artist])\n",
    "values = []\n",
    "for value in list(artist_medians.values()):\n",
    "    if np.isnan(value):\n",
    "        print value\n",
    "        continue\n",
    "    values.append(value)"
   ]
  },
  {
   "cell_type": "code",
   "execution_count": 240,
   "metadata": {
    "collapsed": false
   },
   "outputs": [
    {
     "data": {
      "text/plain": [
       "<matplotlib.text.Text at 0x128df0a50>"
      ]
     },
     "execution_count": 240,
     "metadata": {},
     "output_type": "execute_result"
    },
    {
     "data": {
      "image/png": "[encoded data removed]",
      "text/plain": [
       "<matplotlib.figure.Figure at 0x128fbb810>"
      ]
     },
     "metadata": {},
     "output_type": "display_data"
    }
   ],
   "source": [
    "plt.hist(values)\n",
    "plt.title(\"Artist Bias\")\n",
    "plt.ylabel(\"Number of artists\")\n",
    "plt.xlabel(\"Bias\")"
   ]
  },
  {
   "cell_type": "markdown",
   "metadata": {},
   "source": [
    "### Artist Medians Normalized"
   ]
  },
  {
   "cell_type": "code",
   "execution_count": 127,
   "metadata": {
    "collapsed": true
   },
   "outputs": [],
   "source": [
    "artist_medians_pair = []\n",
    "user_medians_pair = []\n",
    "for _, row in train.iterrows():\n",
    "    artist = row['artist']\n",
    "    user = row['user']\n",
    "    artist_medians_pair.append(artist_medians[artist])\n",
    "    user_medians_pair.append(user_medians[user])"
   ]
  },
  {
   "cell_type": "code",
   "execution_count": 126,
   "metadata": {
    "collapsed": false
   },
   "outputs": [
    {
     "data": {
      "text/plain": [
       "([0.91073738680465721], [502.0])"
      ]
     },
     "execution_count": 126,
     "metadata": {},
     "output_type": "execute_result"
    }
   ],
   "source": [
    "artist_medians_pair, user_medians_pair"
   ]
  },
  {
   "cell_type": "code",
   "execution_count": 136,
   "metadata": {
    "collapsed": true
   },
   "outputs": [],
   "source": [
    "# update overall train\n",
    "train['artist_median'] = artist_medians_pair\n",
    "train['user_median'] = user_medians_pair\n",
    "# recreate training and validation\n",
    "val_df = train.tail(VAL_SIZE)\n",
    "train_df = train.head(len(train) - VAL_SIZE)\n",
    "# create the matrices we need\n",
    "X_train = np.matrix(train_df[['user_median', 'artist_median']])\n",
    "Y_train = train_df['plays']\n",
    "X_val = np.matrix(val_df[['user_median', 'artist_median']])\n",
    "Y_val = val_df['plays']"
   ]
  },
  {
   "cell_type": "code",
   "execution_count": 137,
   "metadata": {
    "collapsed": false
   },
   "outputs": [
    {
     "data": {
      "text/plain": [
       "((4144804, 2), (4144804,), (10000, 2), (10000,))"
      ]
     },
     "execution_count": 137,
     "metadata": {},
     "output_type": "execute_result"
    }
   ],
   "source": [
    "X_train.shape, Y_train.shape, X_val.shape, Y_val.shape"
   ]
  },
  {
   "cell_type": "markdown",
   "metadata": {},
   "source": [
    "### Train models for X"
   ]
  },
  {
   "cell_type": "markdown",
   "metadata": {},
   "source": [
    "#### Random Forest"
   ]
  },
  {
   "cell_type": "code",
   "execution_count": 138,
   "metadata": {
    "collapsed": true
   },
   "outputs": [],
   "source": [
    "rf = RandomForestRegressor()\n",
    "rf.fit(X_train, Y_train.ravel())\n",
    "rf_preds = rf.predict(X_val)"
   ]
  },
  {
   "cell_type": "code",
   "execution_count": 143,
   "metadata": {
    "collapsed": false
   },
   "outputs": [
    {
     "data": {
      "text/plain": [
       "158.39721986759628"
      ]
     },
     "execution_count": 143,
     "metadata": {},
     "output_type": "execute_result"
    }
   ],
   "source": [
    "from sklearn.metrics import mean_absolute_error\n",
    "mean_absolute_error(Y_val, rf_preds)"
   ]
  },
  {
   "cell_type": "code",
   "execution_count": 144,
   "metadata": {
    "collapsed": true
   },
   "outputs": [],
   "source": [
    "baseline_preds = []\n",
    "for _, row in val_df.iterrows():\n",
    "    pred = user_medians[row['user']]\n",
    "    baseline_preds.append(pred)"
   ]
  },
  {
   "cell_type": "code",
   "execution_count": 145,
   "metadata": {
    "collapsed": false
   },
   "outputs": [
    {
     "data": {
      "text/plain": [
       "122.5065"
      ]
     },
     "execution_count": 145,
     "metadata": {},
     "output_type": "execute_result"
    }
   ],
   "source": [
    "mean_absolute_error(Y_val, baseline_preds)"
   ]
  },
  {
   "cell_type": "markdown",
   "metadata": {},
   "source": [
    "#### Linear Regression"
   ]
  },
  {
   "cell_type": "code",
   "execution_count": 146,
   "metadata": {
    "collapsed": false
   },
   "outputs": [
    {
     "name": "stderr",
     "output_type": "stream",
     "text": [
      "/Users/belinda/.virtualenvs/cs181/lib/python2.7/site-packages/scipy/linalg/basic.py:884: RuntimeWarning: internal gelsd driver lwork query error, required iwork dimension not returned. This is likely the result of LAPACK bug 0038, fixed in LAPACK 3.2.2 (released July 21, 2010). Falling back to 'gelss' driver.\n",
      "  warnings.warn(mesg, RuntimeWarning)\n"
     ]
    }
   ],
   "source": [
    "from sklearn.linear_model import LinearRegression\n",
    "lr = LinearRegression()\n",
    "lr.fit(X_train, Y_train)\n",
    "lr_preds = lr.predict(X_val)"
   ]
  },
  {
   "cell_type": "code",
   "execution_count": 147,
   "metadata": {
    "collapsed": false
   },
   "outputs": [
    {
     "data": {
      "text/plain": [
       "147.29833694449849"
      ]
     },
     "execution_count": 147,
     "metadata": {},
     "output_type": "execute_result"
    }
   ],
   "source": [
    "mean_absolute_error(Y_val, lr_preds)"
   ]
  },
  {
   "cell_type": "code",
   "execution_count": 151,
   "metadata": {
    "collapsed": true
   },
   "outputs": [],
   "source": [
    "br = BayesianRidge(compute_score=True)\n",
    "br.fit(X_train, Y_train)\n",
    "br_preds = br.predict(X_val)"
   ]
  },
  {
   "cell_type": "code",
   "execution_count": 152,
   "metadata": {
    "collapsed": false
   },
   "outputs": [
    {
     "data": {
      "text/plain": [
       "147.29760369097929"
      ]
     },
     "execution_count": 152,
     "metadata": {},
     "output_type": "execute_result"
    }
   ],
   "source": [
    "mean_absolute_error(Y_val, br_preds)"
   ]
  },
  {
   "cell_type": "code",
   "execution_count": 159,
   "metadata": {
    "collapsed": false
   },
   "outputs": [
    {
     "data": {
      "text/plain": [
       "array([   1.37805321,  514.13943376])"
      ]
     },
     "execution_count": 159,
     "metadata": {},
     "output_type": "execute_result"
    }
   ],
   "source": [
    "lr.coef_"
   ]
  },
  {
   "cell_type": "code",
   "execution_count": 160,
   "metadata": {
    "collapsed": false
   },
   "outputs": [
    {
     "data": {
      "text/plain": [
       "array([   1.378054  ,  514.09380036])"
      ]
     },
     "execution_count": 160,
     "metadata": {},
     "output_type": "execute_result"
    }
   ],
   "source": [
    "br.coef_"
   ]
  },
  {
   "cell_type": "code",
   "execution_count": 161,
   "metadata": {
    "collapsed": false
   },
   "outputs": [
    {
     "data": {
      "text/html": [
       "<div>\n",
       "<table border=\"1\" class=\"dataframe\">\n",
       "  <thead>\n",
       "    <tr style=\"text-align: right;\">\n",
       "      <th></th>\n",
       "      <th>user</th>\n",
       "      <th>artist</th>\n",
       "      <th>plays</th>\n",
       "      <th>artist_median</th>\n",
       "      <th>user_median</th>\n",
       "    </tr>\n",
       "  </thead>\n",
       "  <tbody>\n",
       "    <tr>\n",
       "      <th>4144804</th>\n",
       "      <td>13bb116eb0f017573577a6f20d1caf9f1fb65129</td>\n",
       "      <td>c71abd83-9d66-4c7b-9f0d-c9c36e85a955</td>\n",
       "      <td>142</td>\n",
       "      <td>0.884848</td>\n",
       "      <td>212.0</td>\n",
       "    </tr>\n",
       "    <tr>\n",
       "      <th>4144805</th>\n",
       "      <td>601a9fa3d29e1cf0cf7cfbceba49ebaae6f5d53b</td>\n",
       "      <td>ea5883b7-68ce-48b3-b115-61746ea53b8c</td>\n",
       "      <td>19</td>\n",
       "      <td>1.000000</td>\n",
       "      <td>23.0</td>\n",
       "    </tr>\n",
       "    <tr>\n",
       "      <th>4144806</th>\n",
       "      <td>7940a5467ff020970dbb9a132c0338fd7f75bb75</td>\n",
       "      <td>7570a0dd-5a67-401b-b19a-261eee01a284</td>\n",
       "      <td>60</td>\n",
       "      <td>1.061047</td>\n",
       "      <td>69.5</td>\n",
       "    </tr>\n",
       "    <tr>\n",
       "      <th>4144807</th>\n",
       "      <td>223e788779ad60eba76da997bf393f23244b240c</td>\n",
       "      <td>00eeed6b-5897-4359-8347-b8cd28375331</td>\n",
       "      <td>96</td>\n",
       "      <td>1.000000</td>\n",
       "      <td>88.0</td>\n",
       "    </tr>\n",
       "    <tr>\n",
       "      <th>4144808</th>\n",
       "      <td>5f4ed2614b40fbec9739492ebdf6ffedf795d2a2</td>\n",
       "      <td>e631bb92-3e2b-43e3-a2cb-b605e2fb53bd</td>\n",
       "      <td>418</td>\n",
       "      <td>1.000000</td>\n",
       "      <td>811.0</td>\n",
       "    </tr>\n",
       "  </tbody>\n",
       "</table>\n",
       "</div>"
      ],
      "text/plain": [
       "                                             user  \\\n",
       "4144804  13bb116eb0f017573577a6f20d1caf9f1fb65129   \n",
       "4144805  601a9fa3d29e1cf0cf7cfbceba49ebaae6f5d53b   \n",
       "4144806  7940a5467ff020970dbb9a132c0338fd7f75bb75   \n",
       "4144807  223e788779ad60eba76da997bf393f23244b240c   \n",
       "4144808  5f4ed2614b40fbec9739492ebdf6ffedf795d2a2   \n",
       "\n",
       "                                       artist  plays  artist_median  \\\n",
       "4144804  c71abd83-9d66-4c7b-9f0d-c9c36e85a955    142       0.884848   \n",
       "4144805  ea5883b7-68ce-48b3-b115-61746ea53b8c     19       1.000000   \n",
       "4144806  7570a0dd-5a67-401b-b19a-261eee01a284     60       1.061047   \n",
       "4144807  00eeed6b-5897-4359-8347-b8cd28375331     96       1.000000   \n",
       "4144808  e631bb92-3e2b-43e3-a2cb-b605e2fb53bd    418       1.000000   \n",
       "\n",
       "         user_median  \n",
       "4144804        212.0  \n",
       "4144805         23.0  \n",
       "4144806         69.5  \n",
       "4144807         88.0  \n",
       "4144808        811.0  "
      ]
     },
     "execution_count": 161,
     "metadata": {},
     "output_type": "execute_result"
    }
   ],
   "source": [
    "val_df.head(5)"
   ]
  },
  {
   "cell_type": "markdown",
   "metadata": {},
   "source": [
    "#### Product"
   ]
  },
  {
   "cell_type": "code",
   "execution_count": 162,
   "metadata": {
    "collapsed": true
   },
   "outputs": [],
   "source": [
    "val_preds = []\n",
    "for _, row in val_df.iterrows():\n",
    "    pred = row['user_median']*row['artist_median']\n",
    "    val_preds.append(pred)"
   ]
  },
  {
   "cell_type": "code",
   "execution_count": 163,
   "metadata": {
    "collapsed": false
   },
   "outputs": [
    {
     "data": {
      "text/plain": [
       "121.562295847733"
      ]
     },
     "execution_count": 163,
     "metadata": {},
     "output_type": "execute_result"
    }
   ],
   "source": [
    "mean_absolute_error(Y_val, val_preds)"
   ]
  },
  {
   "cell_type": "markdown",
   "metadata": {},
   "source": [
    "### X_test"
   ]
  },
  {
   "cell_type": "code",
   "execution_count": 181,
   "metadata": {
    "collapsed": false
   },
   "outputs": [],
   "source": [
    "test_preds = []\n",
    "user_medians_test = []\n",
    "artist_medians_test = []\n",
    "for _, row in test.iterrows():\n",
    "    user_medians_test.append(user_medians[row['user']])\n",
    "    artist_medians_test.append(artist_medians[row['artist']])\n",
    "    pred = user_medians[row['user']]*artist_medians[row['artist']]\n",
    "    test_preds.append(pred)"
   ]
  },
  {
   "cell_type": "code",
   "execution_count": null,
   "metadata": {
    "collapsed": true
   },
   "outputs": [],
   "source": [
    "test['user_median'] = user_medians_test\n",
    "test['artist_median'] = artist_medians_test\n",
    "test['artist_times_user'] = test_preds\n",
    "test.to_csv('test-user-artist-medians.csv')"
   ]
  },
  {
   "cell_type": "code",
   "execution_count": 183,
   "metadata": {
    "collapsed": true
   },
   "outputs": [],
   "source": [
    "def write_predictions(filename, test, preds):\n",
    "    soln_file = filename\n",
    "    # Write out test solutions.\n",
    "    with open(soln_file, 'w') as soln_fh:\n",
    "        soln_csv = csv.writer(soln_fh,\n",
    "                              delimiter=',',\n",
    "                              quotechar='\"',\n",
    "                              quoting=csv.QUOTE_MINIMAL)\n",
    "        soln_csv.writerow(['Id', 'plays'])\n",
    "\n",
    "        for i in xrange(0, len(test['user'])):\n",
    "            id = test['Id'][i]\n",
    "            predictions = preds[i]\n",
    "            \n",
    "            soln_csv.writerow([id, predictions])"
   ]
  },
  {
   "cell_type": "code",
   "execution_count": 184,
   "metadata": {
    "collapsed": true
   },
   "outputs": [],
   "source": [
    "write_predictions('user-med-artist-multiply.csv', test, test_preds)"
   ]
  },
  {
   "cell_type": "code",
   "execution_count": null,
   "metadata": {
    "collapsed": true
   },
   "outputs": [],
   "source": [
    "test.to_csv('test-user-artist-medians.csv')"
   ]
  },
  {
   "cell_type": "markdown",
   "metadata": {},
   "source": [
    "### Now let's try a more sophisticated weighting..."
   ]
  },
  {
   "cell_type": "code",
   "execution_count": 186,
   "metadata": {
    "collapsed": false
   },
   "outputs": [
    {
     "data": {
      "text/html": [
       "<div>\n",
       "<table border=\"1\" class=\"dataframe\">\n",
       "  <thead>\n",
       "    <tr style=\"text-align: right;\">\n",
       "      <th></th>\n",
       "      <th>user</th>\n",
       "      <th>artist</th>\n",
       "      <th>plays</th>\n",
       "      <th>artist_median</th>\n",
       "      <th>user_median</th>\n",
       "    </tr>\n",
       "  </thead>\n",
       "  <tbody>\n",
       "    <tr>\n",
       "      <th>0</th>\n",
       "      <td>eb1c57ddc9e0e2d005169d3a1a96e8dd95e3af03</td>\n",
       "      <td>5a8e07d5-d932-4484-a7f7-e700793a9c94</td>\n",
       "      <td>554</td>\n",
       "      <td>0.910737</td>\n",
       "      <td>502.0</td>\n",
       "    </tr>\n",
       "    <tr>\n",
       "      <th>1</th>\n",
       "      <td>44ce793a6cd9d20f13f4a576a818ef983314bb5d</td>\n",
       "      <td>a3a92047-be1c-4f3e-8960-c4f8570984df</td>\n",
       "      <td>81</td>\n",
       "      <td>1.000000</td>\n",
       "      <td>25.0</td>\n",
       "    </tr>\n",
       "    <tr>\n",
       "      <th>2</th>\n",
       "      <td>da9cf3f557161d54b76f24db64be9cc76db008e3</td>\n",
       "      <td>eeb1195b-f213-4ce1-b28c-8565211f8e43</td>\n",
       "      <td>708</td>\n",
       "      <td>0.984962</td>\n",
       "      <td>105.5</td>\n",
       "    </tr>\n",
       "    <tr>\n",
       "      <th>3</th>\n",
       "      <td>8fa49ab25d425edcf05d44bfc1d5aea895287d81</td>\n",
       "      <td>a1419808-65d3-4d40-998c-1a0bac65eabc</td>\n",
       "      <td>265</td>\n",
       "      <td>0.977578</td>\n",
       "      <td>311.0</td>\n",
       "    </tr>\n",
       "    <tr>\n",
       "      <th>4</th>\n",
       "      <td>b85fcaef67d2669cd99b334b5e8c8705263db2cf</td>\n",
       "      <td>a3cb23fc-acd3-4ce0-8f36-1e5aa6a18432</td>\n",
       "      <td>220</td>\n",
       "      <td>1.023973</td>\n",
       "      <td>125.0</td>\n",
       "    </tr>\n",
       "  </tbody>\n",
       "</table>\n",
       "</div>"
      ],
      "text/plain": [
       "                                       user  \\\n",
       "0  eb1c57ddc9e0e2d005169d3a1a96e8dd95e3af03   \n",
       "1  44ce793a6cd9d20f13f4a576a818ef983314bb5d   \n",
       "2  da9cf3f557161d54b76f24db64be9cc76db008e3   \n",
       "3  8fa49ab25d425edcf05d44bfc1d5aea895287d81   \n",
       "4  b85fcaef67d2669cd99b334b5e8c8705263db2cf   \n",
       "\n",
       "                                 artist  plays  artist_median  user_median  \n",
       "0  5a8e07d5-d932-4484-a7f7-e700793a9c94    554       0.910737        502.0  \n",
       "1  a3a92047-be1c-4f3e-8960-c4f8570984df     81       1.000000         25.0  \n",
       "2  eeb1195b-f213-4ce1-b28c-8565211f8e43    708       0.984962        105.5  \n",
       "3  a1419808-65d3-4d40-998c-1a0bac65eabc    265       0.977578        311.0  \n",
       "4  a3cb23fc-acd3-4ce0-8f36-1e5aa6a18432    220       1.023973        125.0  "
      ]
     },
     "execution_count": 186,
     "metadata": {},
     "output_type": "execute_result"
    }
   ],
   "source": [
    "train.head(5)"
   ]
  },
  {
   "cell_type": "code",
   "execution_count": 187,
   "metadata": {
    "collapsed": true
   },
   "outputs": [],
   "source": [
    "preds = []\n",
    "for _, row in train.iterrows():\n",
    "    pred = row['artist_median']*row['user_median']\n",
    "    preds.append(pred)"
   ]
  },
  {
   "cell_type": "code",
   "execution_count": 188,
   "metadata": {
    "collapsed": true
   },
   "outputs": [],
   "source": [
    "train['true_artist'] = preds"
   ]
  },
  {
   "cell_type": "markdown",
   "metadata": {},
   "source": [
    "#### Creating X and training models"
   ]
  },
  {
   "cell_type": "code",
   "execution_count": 198,
   "metadata": {
    "collapsed": true
   },
   "outputs": [],
   "source": [
    "from sklearn.linear_model import Ridge"
   ]
  },
  {
   "cell_type": "code",
   "execution_count": 189,
   "metadata": {
    "collapsed": true
   },
   "outputs": [],
   "source": [
    "# recreate training and validation\n",
    "val_df = train.tail(VAL_SIZE)\n",
    "train_df = train.head(len(train) - VAL_SIZE)\n",
    "# create the matrices we need\n",
    "X_train = np.matrix(train_df[['user_median', 'true_artist']])\n",
    "Y_train = train_df['plays']\n",
    "X_val = np.matrix(val_df[['user_median', 'true_artist']])\n",
    "Y_val = val_df['plays']"
   ]
  },
  {
   "cell_type": "code",
   "execution_count": 232,
   "metadata": {
    "collapsed": false
   },
   "outputs": [],
   "source": [
    "br = Ridge(alpha=1000.0)\n",
    "br.fit(X_train, Y_train)\n",
    "br_preds = br.predict(X_val)"
   ]
  },
  {
   "cell_type": "code",
   "execution_count": 234,
   "metadata": {
    "collapsed": true
   },
   "outputs": [],
   "source": [
    "rf = RandomForestRegressor()\n",
    "rf.fit(X_train, Y_train.ravel())\n",
    "rf_preds = rf.predict(X_val)"
   ]
  },
  {
   "cell_type": "code",
   "execution_count": null,
   "metadata": {
    "collapsed": true
   },
   "outputs": [],
   "source": [
    "mean_absolute_error(Y_val, rf_preds)"
   ]
  },
  {
   "cell_type": "code",
   "execution_count": 238,
   "metadata": {
    "collapsed": false
   },
   "outputs": [
    {
     "data": {
      "text/plain": [
       "233286"
      ]
     },
     "execution_count": 238,
     "metadata": {},
     "output_type": "execute_result"
    }
   ],
   "source": [
    "len(list(set(train['user'])))"
   ]
  },
  {
   "cell_type": "code",
   "execution_count": null,
   "metadata": {
    "collapsed": true
   },
   "outputs": [],
   "source": [
    "train.groupby(['user'])"
   ]
  },
  {
   "cell_type": "markdown",
   "metadata": {},
   "source": [
    "### Brian's Code"
   ]
  },
  {
   "cell_type": "code",
   "execution_count": null,
   "metadata": {
    "collapsed": true
   },
   "outputs": [],
   "source": [
    "user_artist_pairs = {user : \n",
    "                     [1 if ((train['user'] == user) & (train['artist'] == artist)).any() else 0 for artist in artists['artist']] for user in profiles['user']}"
   ]
  }
 ],
 "metadata": {
  "kernelspec": {
   "display_name": "Python 2",
   "language": "python",
   "name": "python2"
  },
  "language_info": {
   "codemirror_mode": {
    "name": "ipython",
    "version": 2
   },
   "file_extension": ".py",
   "mimetype": "text/x-python",
   "name": "python",
   "nbconvert_exporter": "python",
   "pygments_lexer": "ipython2",
   "version": "2.7.10"
  }
 },
 "nbformat": 4,
 "nbformat_minor": 2
}
